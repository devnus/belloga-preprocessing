{
 "cells": [
  {
   "cell_type": "markdown",
   "id": "b4217afd-510c-43d9-b7a7-43756d37fcff",
   "metadata": {},
   "source": [
    "use clova : https://github.com/clovaai/CRAFT-pytorch\n",
    "\n",
    "https://github.com/fcakyon/craft-text-detector"
   ]
  },
  {
   "cell_type": "code",
   "execution_count": 2,
   "id": "1ccd9261-7024-48a0-b875-7065e89e7dfa",
   "metadata": {},
   "outputs": [],
   "source": [
    "# import Craft class\n",
    "from craft_text_detector import Craft"
   ]
  },
  {
   "cell_type": "code",
   "execution_count": 4,
   "id": "e767ea94-1b16-4a69-a653-22fc8495afa3",
   "metadata": {},
   "outputs": [],
   "source": [
    "# set image path and export folder directory\n",
    "image = './images/korean_handwritting_example.jpeg' # can be filepath, PIL image or numpy array\n",
    "output_dir = 'outputs/'"
   ]
  },
  {
   "cell_type": "code",
   "execution_count": 5,
   "id": "d25b84cb-7668-430e-8185-9010e0b244fe",
   "metadata": {},
   "outputs": [],
   "source": [
    "# create a craft instance\n",
    "craft = Craft(output_dir=output_dir, crop_type=\"poly\", cuda=False)"
   ]
  },
  {
   "cell_type": "code",
   "execution_count": 6,
   "id": "91cd6067-94ac-4507-9b14-a54401c6f9f1",
   "metadata": {},
   "outputs": [],
   "source": [
    "# apply craft text detection and export detected regions to output directory\n",
    "prediction_result = craft.detect_text(image)"
   ]
  },
  {
   "cell_type": "code",
   "execution_count": 8,
   "id": "08bfa5a0-6ad9-4d93-80ab-33531dab32a4",
   "metadata": {},
   "outputs": [],
   "source": [
    "# unload models from ram/gpu\n",
    "craft.unload_craftnet_model()\n",
    "craft.unload_refinenet_model()"
   ]
  },
  {
   "cell_type": "code",
   "execution_count": 9,
   "id": "c9e4a61c-1d67-4a8c-9e5e-a48860bb34c3",
   "metadata": {},
   "outputs": [],
   "source": [
    "# import craft functions\n",
    "from craft_text_detector import (\n",
    "    read_image,\n",
    "    load_craftnet_model,\n",
    "    load_refinenet_model,\n",
    "    get_prediction,\n",
    "    export_detected_regions,\n",
    "    export_extra_results,\n",
    "    empty_cuda_cache\n",
    ")"
   ]
  },
  {
   "cell_type": "code",
   "execution_count": 10,
   "id": "8518e0f0-260f-4720-a53a-a15ae8a8c85e",
   "metadata": {},
   "outputs": [],
   "source": [
    "# read image\n",
    "image = read_image(image)\n"
   ]
  },
  {
   "cell_type": "code",
   "execution_count": 14,
   "id": "8bf64e23-7c3c-4974-b3d1-bb5809924768",
   "metadata": {},
   "outputs": [],
   "source": [
    "# load models\n",
    "refine_net = load_refinenet_model(cuda=False)\n",
    "craft_net = load_craftnet_model(cuda=False)"
   ]
  },
  {
   "cell_type": "code",
   "execution_count": 20,
   "id": "880b497f-cfb1-4c71-a21f-fd0a3c54c436",
   "metadata": {},
   "outputs": [],
   "source": [
    "\n",
    "# perform prediction\n",
    "prediction_result = get_prediction(\n",
    "    image=image,\n",
    "    craft_net=craft_net,\n",
    "    refine_net=refine_net,\n",
    "    text_threshold=0.7,\n",
    "    link_threshold=0.4,\n",
    "    low_text=0.4,\n",
    "    cuda=False,\n",
    "    long_size=1280\n",
    ")"
   ]
  },
  {
   "cell_type": "code",
   "execution_count": 21,
   "id": "6817415b-ed5b-4ee9-92d3-9805ffff8eb3",
   "metadata": {},
   "outputs": [],
   "source": [
    "\n",
    "# export detected text regions\n",
    "exported_file_paths = export_detected_regions(\n",
    "    image=image,\n",
    "    regions=prediction_result[\"boxes\"],\n",
    "    output_dir=output_dir,\n",
    "    rectify=True\n",
    ")"
   ]
  },
  {
   "cell_type": "code",
   "execution_count": 22,
   "id": "60f0eb9d-c6a8-459a-98dc-f674c845d421",
   "metadata": {},
   "outputs": [],
   "source": [
    "\n",
    "# export heatmap, detection points, box visualization\n",
    "export_extra_results(\n",
    "    image=image,\n",
    "    regions=prediction_result[\"boxes\"],\n",
    "    heatmaps=prediction_result[\"heatmaps\"],\n",
    "    output_dir=output_dir\n",
    ")"
   ]
  },
  {
   "cell_type": "code",
   "execution_count": 19,
   "id": "7d55914c-2866-4d0a-a21c-a92d7e736670",
   "metadata": {},
   "outputs": [],
   "source": [
    "\n",
    "# unload models from gpu\n",
    "empty_cuda_cache()"
   ]
  },
  {
   "cell_type": "code",
   "execution_count": null,
   "id": "94e7200d-98ac-48b6-a022-a34b16ef377e",
   "metadata": {},
   "outputs": [],
   "source": []
  }
 ],
 "metadata": {
  "kernelspec": {
   "display_name": "Python 3 (ipykernel)",
   "language": "python",
   "name": "python3"
  },
  "language_info": {
   "codemirror_mode": {
    "name": "ipython",
    "version": 3
   },
   "file_extension": ".py",
   "mimetype": "text/x-python",
   "name": "python",
   "nbconvert_exporter": "python",
   "pygments_lexer": "ipython3",
   "version": "3.8.9"
  }
 },
 "nbformat": 4,
 "nbformat_minor": 5
}
