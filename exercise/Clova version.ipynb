{
 "cells": [
  {
   "cell_type": "markdown",
   "id": "b4217afd-510c-43d9-b7a7-43756d37fcff",
   "metadata": {},
   "source": [
    "use clova : https://github.com/clovaai/CRAFT-pytorch\n",
    "\n",
    "https://github.com/fcakyon/craft-text-detector"
   ]
  },
  {
   "cell_type": "code",
   "execution_count": 112,
   "id": "1ccd9261-7024-48a0-b875-7065e89e7dfa",
   "metadata": {},
   "outputs": [],
   "source": [
    "# import Craft class\n",
    "from craft_text_detector import Craft"
   ]
  },
  {
   "cell_type": "code",
   "execution_count": 113,
   "id": "728d9da1-830e-42ba-9e11-573eb7bcca69",
   "metadata": {},
   "outputs": [
    {
     "name": "stderr",
     "output_type": "stream",
     "text": [
      "  % Total    % Received % Xferd  Average Speed   Time    Time     Time  Current\n",
      "                                 Dload  Upload   Total   Spent    Left  Speed\n",
      "100  762k  100  762k    0     0   569k      0  0:00:01  0:00:01 --:--:--  572k\n"
     ]
    }
   ],
   "source": [
    "import os\n",
    "import time\n",
    "\n",
    "# 다운받을 이미지 url\n",
    "url = \"https://belloga-dev-s3-raw-data-bucket.s3.ap-northeast-2.amazonaws.com/ocr-data/5350037-2005-0001-1289.JPG\"\n",
    "\n",
    "# curl 요청\n",
    "os.system(\"curl \" + url + \" > test.jpg\")\n",
    "\n",
    "# 저장 된 이미지 확인\n",
    "img = Image.open(\"test.jpg\")"
   ]
  },
  {
   "cell_type": "code",
   "execution_count": 107,
   "id": "08ec6784-102c-49fb-a4ad-d21877c81c0d",
   "metadata": {},
   "outputs": [],
   "source": [
    "#input json을 받아서 각 변수에 담아준다\n",
    "enterpriseId = 'id'\n",
    "rawDataId = 'number'\n",
    "imageUrl = 'url'"
   ]
  },
  {
   "cell_type": "code",
   "execution_count": 12,
   "id": "e767ea94-1b16-4a69-a653-22fc8495afa3",
   "metadata": {},
   "outputs": [],
   "source": [
    "# set image path and export folder directory\n",
    "image = './test.jpg' # can be filepath, PIL image or numpy array\n",
    "output_dir = 'outputs_sample/'"
   ]
  },
  {
   "cell_type": "code",
   "execution_count": 13,
   "id": "d25b84cb-7668-430e-8185-9010e0b244fe",
   "metadata": {},
   "outputs": [],
   "source": [
    "# create a craft instance\n",
    "craft = Craft(output_dir=output_dir, crop_type=\"poly\", cuda=False)"
   ]
  },
  {
   "cell_type": "code",
   "execution_count": 14,
   "id": "91cd6067-94ac-4507-9b14-a54401c6f9f1",
   "metadata": {},
   "outputs": [
    {
     "name": "stderr",
     "output_type": "stream",
     "text": [
      "/Users/sybae/.python-3.8/lib/python3.8/site-packages/craft_text_detector/craft_utils.py:415: VisibleDeprecationWarning: Creating an ndarray from ragged nested sequences (which is a list-or-tuple of lists-or-tuples-or ndarrays with different lengths or shapes) is deprecated. If you meant to do this, you must specify 'dtype=object' when creating the ndarray.\n",
      "  polys = np.array(polys)\n",
      "/Users/sybae/.python-3.8/lib/python3.8/site-packages/craft_text_detector/predict.py:110: VisibleDeprecationWarning: Creating an ndarray from ragged nested sequences (which is a list-or-tuple of lists-or-tuples-or ndarrays with different lengths or shapes) is deprecated. If you meant to do this, you must specify 'dtype=object' when creating the ndarray.\n",
      "  polys_as_ratio = np.array(polys_as_ratio)\n"
     ]
    }
   ],
   "source": [
    "# apply craft text detection and export detected regions to output directory\n",
    "prediction_result = craft.detect_text(image)"
   ]
  },
  {
   "cell_type": "code",
   "execution_count": 15,
   "id": "08bfa5a0-6ad9-4d93-80ab-33531dab32a4",
   "metadata": {},
   "outputs": [],
   "source": [
    "# unload models from ram/gpu\n",
    "craft.unload_craftnet_model()\n",
    "craft.unload_refinenet_model()"
   ]
  },
  {
   "cell_type": "code",
   "execution_count": 16,
   "id": "c9e4a61c-1d67-4a8c-9e5e-a48860bb34c3",
   "metadata": {},
   "outputs": [],
   "source": [
    "# import craft functions\n",
    "from craft_text_detector import (\n",
    "    read_image,\n",
    "    load_craftnet_model,\n",
    "    load_refinenet_model,\n",
    "    get_prediction,\n",
    "    export_detected_regions,\n",
    "    export_extra_results,\n",
    "    empty_cuda_cache\n",
    ")"
   ]
  },
  {
   "cell_type": "code",
   "execution_count": 17,
   "id": "8518e0f0-260f-4720-a53a-a15ae8a8c85e",
   "metadata": {},
   "outputs": [],
   "source": [
    "# read image\n",
    "image = read_image(image)\n"
   ]
  },
  {
   "cell_type": "code",
   "execution_count": 18,
   "id": "8bf64e23-7c3c-4974-b3d1-bb5809924768",
   "metadata": {},
   "outputs": [],
   "source": [
    "# load models\n",
    "refine_net = load_refinenet_model(cuda=False)\n",
    "craft_net = load_craftnet_model(cuda=False)"
   ]
  },
  {
   "cell_type": "code",
   "execution_count": 19,
   "id": "880b497f-cfb1-4c71-a21f-fd0a3c54c436",
   "metadata": {},
   "outputs": [],
   "source": [
    "\n",
    "# perform prediction\n",
    "prediction_result = get_prediction(\n",
    "    image=image,\n",
    "    craft_net=craft_net,\n",
    "    refine_net=refine_net,\n",
    "    text_threshold=0.7,\n",
    "    link_threshold=0.4,\n",
    "    low_text=0.4,\n",
    "    cuda=False,\n",
    "    long_size=1280\n",
    ")"
   ]
  },
  {
   "cell_type": "code",
   "execution_count": 20,
   "id": "6817415b-ed5b-4ee9-92d3-9805ffff8eb3",
   "metadata": {},
   "outputs": [],
   "source": [
    "# export detected text regions\n",
    "exported_file_paths = export_detected_regions(\n",
    "    image=image,\n",
    "    regions=prediction_result[\"boxes\"],\n",
    "    output_dir=output_dir,\n",
    "    rectify=True\n",
    ")"
   ]
  },
  {
   "cell_type": "code",
   "execution_count": 21,
   "id": "60f0eb9d-c6a8-459a-98dc-f674c845d421",
   "metadata": {},
   "outputs": [],
   "source": [
    "# export heatmap, detection points, box visualization\n",
    "export_extra_results(\n",
    "    image=image,\n",
    "    regions=prediction_result[\"boxes\"],\n",
    "    heatmaps=prediction_result[\"heatmaps\"],\n",
    "    output_dir=output_dir\n",
    ")"
   ]
  },
  {
   "cell_type": "code",
   "execution_count": 19,
   "id": "7d55914c-2866-4d0a-a21c-a92d7e736670",
   "metadata": {},
   "outputs": [],
   "source": [
    "# unload models from gpu\n",
    "empty_cuda_cache()"
   ]
  },
  {
   "cell_type": "code",
   "execution_count": 44,
   "id": "9dbb4568-a9a1-41aa-b17b-7782bc3232fa",
   "metadata": {},
   "outputs": [],
   "source": [
    "import json\n",
    "from collections import OrderedDict"
   ]
  },
  {
   "cell_type": "code",
   "execution_count": 100,
   "id": "94e7200d-98ac-48b6-a022-a34b16ef377e",
   "metadata": {},
   "outputs": [],
   "source": [
    "f = open(\"./outputs_sample/image_text_detection.txt\", 'r')\n",
    "lines = f.readlines()\n",
    "\n",
    "bounding_box_info_array = []\n",
    "for line in lines:\n",
    "    coordinate = line.strip()\n",
    "    coordinate_array = coordinate.split(',')\n",
    "    x_info = coordinate_array[0::2]\n",
    "    y_info = coordinate_array[1::2]\n",
    "    \n",
    "    bounding_box_info = OrderedDict()\n",
    "    bounding_box_info[\"x\"]=x_info\n",
    "    bounding_box_info[\"y\"]=y_info\n",
    "\n",
    "    bounding_box_info_array.append(bounding_box_info)\n",
    "f.close()"
   ]
  },
  {
   "cell_type": "code",
   "execution_count": 108,
   "id": "e7c401d8-f566-4072-a780-bf680360b7ec",
   "metadata": {},
   "outputs": [],
   "source": [
    "output_json = OrderedDict()\n",
    "\n",
    "output_json['enterpriseId']= enterpriseId\n",
    "output_json['rawDataId']= rawDataId\n",
    "output_json['imageUrl']= imageUrl\n",
    "output_json['boundingBoxInfo']= bounding_box_info_array"
   ]
  },
  {
   "cell_type": "code",
   "execution_count": 109,
   "id": "cf312f52-2540-40d4-acee-5418857c0e19",
   "metadata": {},
   "outputs": [
    {
     "data": {
      "text/plain": [
       "OrderedDict([('enterpriseId', 'id'),\n",
       "             ('rawDataId', 'number'),\n",
       "             ('imageUrl', 'url'),\n",
       "             ('boundingBoxInfo',\n",
       "              [OrderedDict([('x', ['860', '1660', '1660', '860']),\n",
       "                            ('y', ['372', '372', '422', '422'])]),\n",
       "               OrderedDict([('x', ['1035', '1490', '1490', '1035']),\n",
       "                            ('y', ['531', '531', '619', '619'])]),\n",
       "               OrderedDict([('x', ['252', '734', '734', '252']),\n",
       "                            ('y', ['712', '712', '772', '772'])]),\n",
       "               OrderedDict([('x', ['252', '422', '422', '252']),\n",
       "                            ('y', ['789', '789', '849', '849'])]),\n",
       "               OrderedDict([('x', ['252', '2285', '2285', '252']),\n",
       "                            ('y', ['877', '877', '942', '942'])]),\n",
       "               OrderedDict([('x', ['438', '866', '866', '438']),\n",
       "                            ('y', ['953', '953', '1014', '1014'])]),\n",
       "               OrderedDict([('x', ['465', '1151', '1151', '465']),\n",
       "                            ('y', ['1046', '1046', '1101', '1101'])]),\n",
       "               OrderedDict([('x', ['1945', '2296', '2296', '1945']),\n",
       "                            ('y', ['1046', '1046', '1101', '1101'])]),\n",
       "               OrderedDict([('x', ['230', '1699', '1699', '230']),\n",
       "                            ('y', ['1123', '1123', '1183', '1183'])]),\n",
       "               OrderedDict([('x', ['1200', '1425', '1425', '1200']),\n",
       "                            ('y', ['1216', '1216', '1260', '1260'])]),\n",
       "               OrderedDict([('x', ['433', '1732', '1732', '433']),\n",
       "                            ('y', ['1288', '1288', '1342', '1342'])]),\n",
       "               OrderedDict([('x', ['504', '2093', '2093', '504']),\n",
       "                            ('y', ['1364', '1364', '1425', '1425'])]),\n",
       "               OrderedDict([('x', ['433', '707', '707', '433']),\n",
       "                            ('y', ['1447', '1447', '1501', '1501'])]),\n",
       "               OrderedDict([('x', ['537', '1781', '1781', '537']),\n",
       "                            ('y', ['1529', '1529', '1584', '1584'])]),\n",
       "               OrderedDict([('x', ['537', '1726', '1726', '537']),\n",
       "                            ('y', ['1606', '1606', '1660', '1660'])]),\n",
       "               OrderedDict([('x', ['537', '1754', '1754', '537']),\n",
       "                            ('y', ['1682', '1682', '1743', '1743'])]),\n",
       "               OrderedDict([('x', ['482', '1956', '1956', '482']),\n",
       "                            ('y', ['1764', '1764', '1825', '1825'])]),\n",
       "               OrderedDict([('x', ['509', '1759', '1759', '509']),\n",
       "                            ('y', ['1847', '1847', '1901', '1901'])]),\n",
       "               OrderedDict([('x', ['427', '1090', '1090', '427']),\n",
       "                            ('y', ['1923', '1923', '1978', '1978'])]),\n",
       "               OrderedDict([('x', ['433', '1359', '1359', '433']),\n",
       "                            ('y', ['2006', '2006', '2060', '2060'])]),\n",
       "               OrderedDict([('x', ['1562', '2011', '2011', '1562']),\n",
       "                            ('y', ['2006', '2006', '2060', '2060'])]),\n",
       "               OrderedDict([('x', ['433', '2208', '2208', '433']),\n",
       "                            ('y', ['2088', '2088', '2143', '2143'])]),\n",
       "               OrderedDict([('x', ['783', '1183', '1183', '783']),\n",
       "                            ('y', ['2165', '2165', '2219', '2219'])]),\n",
       "               OrderedDict([('x', ['235', '1244', '1244', '235']),\n",
       "                            ('y', ['2247', '2247', '2302', '2302'])]),\n",
       "               OrderedDict([('x', ['482', '1041', '1041', '482']),\n",
       "                            ('y', ['2324', '2324', '2384', '2384'])]),\n",
       "               OrderedDict([('x', ['1611', '1770', '1770', '1611']),\n",
       "                            ('y', ['2598', '2598', '2636', '2636'])]),\n",
       "               OrderedDict([('x', ['575', '970', '970', '575']),\n",
       "                            ('y', ['2636', '2636', '2685', '2685'])]),\n",
       "               OrderedDict([('x', ['1074', '1474', '1474', '1074']),\n",
       "                            ('y', ['2636', '2636', '2685', '2685'])]),\n",
       "               OrderedDict([('x', ['250', '487', '489', '252']),\n",
       "                            ('y', ['2639', '2632', '2680', '2687'])]),\n",
       "               OrderedDict([('x', ['1611', '1726', '1726', '1611']),\n",
       "                            ('y', ['2641', '2641', '2685', '2685'])]),\n",
       "               OrderedDict([('x', ['251', '1205', '1206', '252']),\n",
       "                            ('y', ['2921', '2915', '2962', '2968'])]),\n",
       "               OrderedDict([('x', ['1606', '1732', '1732', '1606']),\n",
       "                            ('y', ['2910', '2910', '2959', '2959'])]),\n",
       "               OrderedDict([('x', ['1277', '1479', '1479', '1277']),\n",
       "                            ('y', ['2921', '2921', '2959', '2959'])]),\n",
       "               OrderedDict([('x', ['252', '712', '712', '252']),\n",
       "                            ('y', ['3025', '3025', '3074', '3074'])]),\n",
       "               OrderedDict([('x', ['1266', '1348', '1348', '1266']),\n",
       "                            ('y', ['3020', '3020', '3069', '3069'])]),\n",
       "               OrderedDict([('x', ['805', '1057', '1057', '805']),\n",
       "                            ('y', ['3025', '3025', '3069', '3069'])]),\n",
       "               OrderedDict([('x', ['252', '471', '471', '252']),\n",
       "                            ('y', ['3107', '3107', '3146', '3146'])]),\n",
       "               OrderedDict([('x', ['553', '986', '986', '553']),\n",
       "                            ('y', ['3096', '3096', '3146', '3146'])]),\n",
       "               OrderedDict([('x', ['246', '613', '613', '246']),\n",
       "                            ('y', ['3162', '3162', '3212', '3212'])]),\n",
       "               OrderedDict([('x', ['729', '1622', '1622', '728']),\n",
       "                            ('y', ['3163', '3169', '3218', '3211'])]),\n",
       "               OrderedDict([('x', ['959', '1562', '1562', '959']),\n",
       "                            ('y', ['3239', '3239', '3288', '3288'])])])])"
      ]
     },
     "execution_count": 109,
     "metadata": {},
     "output_type": "execute_result"
    }
   ],
   "source": [
    "output_json"
   ]
  },
  {
   "cell_type": "code",
   "execution_count": 110,
   "id": "4ed1a6a3-e6c9-4f12-9606-7269011b528a",
   "metadata": {},
   "outputs": [],
   "source": [
    "output_json = json.dumps(output_json, ensure_ascii=False)"
   ]
  },
  {
   "cell_type": "code",
   "execution_count": 111,
   "id": "07306a51-c5ed-4924-afa5-bdf44f853e1e",
   "metadata": {},
   "outputs": [
    {
     "data": {
      "text/plain": [
       "'{\"enterpriseId\": \"id\", \"rawDataId\": \"number\", \"imageUrl\": \"url\", \"boundingBoxInfo\": [{\"x\": [\"860\", \"1660\", \"1660\", \"860\"], \"y\": [\"372\", \"372\", \"422\", \"422\"]}, {\"x\": [\"1035\", \"1490\", \"1490\", \"1035\"], \"y\": [\"531\", \"531\", \"619\", \"619\"]}, {\"x\": [\"252\", \"734\", \"734\", \"252\"], \"y\": [\"712\", \"712\", \"772\", \"772\"]}, {\"x\": [\"252\", \"422\", \"422\", \"252\"], \"y\": [\"789\", \"789\", \"849\", \"849\"]}, {\"x\": [\"252\", \"2285\", \"2285\", \"252\"], \"y\": [\"877\", \"877\", \"942\", \"942\"]}, {\"x\": [\"438\", \"866\", \"866\", \"438\"], \"y\": [\"953\", \"953\", \"1014\", \"1014\"]}, {\"x\": [\"465\", \"1151\", \"1151\", \"465\"], \"y\": [\"1046\", \"1046\", \"1101\", \"1101\"]}, {\"x\": [\"1945\", \"2296\", \"2296\", \"1945\"], \"y\": [\"1046\", \"1046\", \"1101\", \"1101\"]}, {\"x\": [\"230\", \"1699\", \"1699\", \"230\"], \"y\": [\"1123\", \"1123\", \"1183\", \"1183\"]}, {\"x\": [\"1200\", \"1425\", \"1425\", \"1200\"], \"y\": [\"1216\", \"1216\", \"1260\", \"1260\"]}, {\"x\": [\"433\", \"1732\", \"1732\", \"433\"], \"y\": [\"1288\", \"1288\", \"1342\", \"1342\"]}, {\"x\": [\"504\", \"2093\", \"2093\", \"504\"], \"y\": [\"1364\", \"1364\", \"1425\", \"1425\"]}, {\"x\": [\"433\", \"707\", \"707\", \"433\"], \"y\": [\"1447\", \"1447\", \"1501\", \"1501\"]}, {\"x\": [\"537\", \"1781\", \"1781\", \"537\"], \"y\": [\"1529\", \"1529\", \"1584\", \"1584\"]}, {\"x\": [\"537\", \"1726\", \"1726\", \"537\"], \"y\": [\"1606\", \"1606\", \"1660\", \"1660\"]}, {\"x\": [\"537\", \"1754\", \"1754\", \"537\"], \"y\": [\"1682\", \"1682\", \"1743\", \"1743\"]}, {\"x\": [\"482\", \"1956\", \"1956\", \"482\"], \"y\": [\"1764\", \"1764\", \"1825\", \"1825\"]}, {\"x\": [\"509\", \"1759\", \"1759\", \"509\"], \"y\": [\"1847\", \"1847\", \"1901\", \"1901\"]}, {\"x\": [\"427\", \"1090\", \"1090\", \"427\"], \"y\": [\"1923\", \"1923\", \"1978\", \"1978\"]}, {\"x\": [\"433\", \"1359\", \"1359\", \"433\"], \"y\": [\"2006\", \"2006\", \"2060\", \"2060\"]}, {\"x\": [\"1562\", \"2011\", \"2011\", \"1562\"], \"y\": [\"2006\", \"2006\", \"2060\", \"2060\"]}, {\"x\": [\"433\", \"2208\", \"2208\", \"433\"], \"y\": [\"2088\", \"2088\", \"2143\", \"2143\"]}, {\"x\": [\"783\", \"1183\", \"1183\", \"783\"], \"y\": [\"2165\", \"2165\", \"2219\", \"2219\"]}, {\"x\": [\"235\", \"1244\", \"1244\", \"235\"], \"y\": [\"2247\", \"2247\", \"2302\", \"2302\"]}, {\"x\": [\"482\", \"1041\", \"1041\", \"482\"], \"y\": [\"2324\", \"2324\", \"2384\", \"2384\"]}, {\"x\": [\"1611\", \"1770\", \"1770\", \"1611\"], \"y\": [\"2598\", \"2598\", \"2636\", \"2636\"]}, {\"x\": [\"575\", \"970\", \"970\", \"575\"], \"y\": [\"2636\", \"2636\", \"2685\", \"2685\"]}, {\"x\": [\"1074\", \"1474\", \"1474\", \"1074\"], \"y\": [\"2636\", \"2636\", \"2685\", \"2685\"]}, {\"x\": [\"250\", \"487\", \"489\", \"252\"], \"y\": [\"2639\", \"2632\", \"2680\", \"2687\"]}, {\"x\": [\"1611\", \"1726\", \"1726\", \"1611\"], \"y\": [\"2641\", \"2641\", \"2685\", \"2685\"]}, {\"x\": [\"251\", \"1205\", \"1206\", \"252\"], \"y\": [\"2921\", \"2915\", \"2962\", \"2968\"]}, {\"x\": [\"1606\", \"1732\", \"1732\", \"1606\"], \"y\": [\"2910\", \"2910\", \"2959\", \"2959\"]}, {\"x\": [\"1277\", \"1479\", \"1479\", \"1277\"], \"y\": [\"2921\", \"2921\", \"2959\", \"2959\"]}, {\"x\": [\"252\", \"712\", \"712\", \"252\"], \"y\": [\"3025\", \"3025\", \"3074\", \"3074\"]}, {\"x\": [\"1266\", \"1348\", \"1348\", \"1266\"], \"y\": [\"3020\", \"3020\", \"3069\", \"3069\"]}, {\"x\": [\"805\", \"1057\", \"1057\", \"805\"], \"y\": [\"3025\", \"3025\", \"3069\", \"3069\"]}, {\"x\": [\"252\", \"471\", \"471\", \"252\"], \"y\": [\"3107\", \"3107\", \"3146\", \"3146\"]}, {\"x\": [\"553\", \"986\", \"986\", \"553\"], \"y\": [\"3096\", \"3096\", \"3146\", \"3146\"]}, {\"x\": [\"246\", \"613\", \"613\", \"246\"], \"y\": [\"3162\", \"3162\", \"3212\", \"3212\"]}, {\"x\": [\"729\", \"1622\", \"1622\", \"728\"], \"y\": [\"3163\", \"3169\", \"3218\", \"3211\"]}, {\"x\": [\"959\", \"1562\", \"1562\", \"959\"], \"y\": [\"3239\", \"3239\", \"3288\", \"3288\"]}]}'"
      ]
     },
     "execution_count": 111,
     "metadata": {},
     "output_type": "execute_result"
    }
   ],
   "source": [
    "output_json"
   ]
  },
  {
   "cell_type": "code",
   "execution_count": null,
   "id": "34a51539-7d64-40e7-9909-8194bb9dc496",
   "metadata": {},
   "outputs": [],
   "source": []
  }
 ],
 "metadata": {
  "kernelspec": {
   "display_name": "Python 3 (ipykernel)",
   "language": "python",
   "name": "python3"
  },
  "language_info": {
   "codemirror_mode": {
    "name": "ipython",
    "version": 3
   },
   "file_extension": ".py",
   "mimetype": "text/x-python",
   "name": "python",
   "nbconvert_exporter": "python",
   "pygments_lexer": "ipython3",
   "version": "3.8.9"
  }
 },
 "nbformat": 4,
 "nbformat_minor": 5
}
